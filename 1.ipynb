{
 "cells": [
  {
   "cell_type": "code",
   "execution_count": null,
   "metadata": {},
   "outputs": [],
   "source": [
    "!rm -rf iris.csv\n",
    "!wget https://gist.githubusercontent.com/netj/8836201/raw/6f9306ad21398ea43cba4f7d537619d0e07d5ae3/iris.csv\n",
    "import pandas as pd\n",
    "from sklearn.tree import DecisionTreeClassifier\n",
    "from sklearn.metrics import accuracy_score,recall_score,precision_score,f1_score\n",
    "from sklearn.model_selection import train_test_split\n",
    "\n",
    "df = pd.read_csv('iris.csv')\n",
    "df.head()\n",
    "df['class'] = df['variety'].map(\n",
    "    {\n",
    "        'Setosa':0,\n",
    "        'Versicolor':1,\n",
    "        'Virginica':2\n",
    "    }\n",
    ")\n",
    "X = df[['sepal.length','sepal.width','petal.length','petal.width']]\n",
    "print(X)\n",
    "Y = df[['class']]\n",
    "print(Y)\n",
    "X_train,X_test,Y_train,Y_test = train_test_split(X,Y,test_size=0.3,random_state=1)\n",
    "\n",
    "id3 = DecisionTreeClassifier(criterion='entropy')\n",
    "model_id3 = id3.fit(X_train,Y_train)\n",
    "Y_id3 = model_id3.predict(X_test)\n",
    "\n",
    "print(\"Accuracy Score: \",accuracy_score(Y_test,Y_id3))\n",
    "print(\"Recall Score: \",recall_score(Y_test,Y_id3,average='micro'))\n",
    "print(\"Precision Score: \",precision_score(Y_test,Y_id3,average='micro'))\n",
    "print(\"F1 Score: \",f1_score(Y_test,Y_id3,average='micro'))"
   ]
  }
 ],
 "metadata": {
  "language_info": {
   "name": "python"
  },
  "orig_nbformat": 4
 },
 "nbformat": 4,
 "nbformat_minor": 2
}

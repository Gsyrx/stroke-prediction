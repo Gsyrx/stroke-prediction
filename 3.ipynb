{
 "cells": [
  {
   "cell_type": "code",
   "execution_count": null,
   "metadata": {},
   "outputs": [],
   "source": [
    "!rm -rf iris.csv\n",
    "!wget https://gist.githubusercontent.com/netj/8836201/raw/6f9306ad21398ea43cba4f7d537619d0e07d5ae3/iris.csv\n",
    "import pandas as pd\n",
    "from sklearn.model_selection import train_test_split\n",
    "from sklearn.metrics import accuracy_score, recall_score, precision_score, f1_score\n",
    "from sklearn.cluster import KMeans\n",
    "\n",
    "df = pd.read_csv('iris.csv')\n",
    "df.head()\n",
    "df['class'] = df['variety'].map(\n",
    "    {\n",
    "        'Setosa': 0,\n",
    "        'Versicolor': 1,\n",
    "        'Virginica': 2\n",
    "    }\n",
    ")\n",
    "\n",
    "X = df[['sepal.length', 'sepal.width', 'petal.length', 'petal.width']]\n",
    "print(X)\n",
    "Y = df[['class']]\n",
    "print(Y)\n",
    "X_train, X_test, Y_train, Y_test = train_test_split(X, Y, test_size=0.3, random_state=1)\n",
    "\n",
    "Kmeans = KMeans(n_clusters=3)\n",
    "model = Kmeans.fit(X_train, Y_train)\n",
    "Y_pred = Kmeans.predict(X_test)\n",
    "                        \n",
    "print(\"Accuracy:\", accuracy_score(Y_test['class'], Y_pred))\n",
    "print(\"Recall:\", recall_score(Y_test['class'], Y_pred,  average='weighted'))\n",
    "print(\"Precision:\", precision_score(Y_test['class'], Y_pred, average='weighted'))\n",
    "print(\"F1_score:\", f1_score(Y_test['class'], Y_pred, average='weighted'))"
   ]
  }
 ],
 "metadata": {
  "language_info": {
   "name": "python"
  },
  "orig_nbformat": 4
 },
 "nbformat": 4,
 "nbformat_minor": 2
}
